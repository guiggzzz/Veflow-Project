{
 "cells": [
  {
   "cell_type": "markdown",
   "id": "4da41f6a",
   "metadata": {},
   "source": [
    "# Démonstration manipulation des données extraites de l'API\n",
    "\n",
    "Ce notebook présente comment les données pourraient être affichées et comment elles pourraient être utiles pour construite un modèle prédictif des emplacements et vélos disponibles sur le réseau Vélo Toulouse"
   ]
  },
  {
   "cell_type": "code",
   "execution_count": 13,
   "id": "56458653",
   "metadata": {},
   "outputs": [],
   "source": [
    "import pandas as pd\n",
    "import plotly.graph_objects as go\n",
    "from plotly.subplots import make_subplots\n",
    "import plotly.express as px"
   ]
  },
  {
   "cell_type": "code",
   "execution_count": 14,
   "id": "ad8c7cd1",
   "metadata": {},
   "outputs": [
    {
     "data": {
      "application/vnd.microsoft.datawrangler.viewer.v0+json": {
       "columns": [
        {
         "name": "index",
         "rawType": "int64",
         "type": "integer"
        },
        {
         "name": "Unnamed: 0",
         "rawType": "int64",
         "type": "integer"
        },
        {
         "name": "datetime",
         "rawType": "object",
         "type": "string"
        },
        {
         "name": "number",
         "rawType": "int64",
         "type": "integer"
        },
        {
         "name": "name",
         "rawType": "object",
         "type": "string"
        },
        {
         "name": "address",
         "rawType": "object",
         "type": "unknown"
        },
        {
         "name": "bike_stands",
         "rawType": "int64",
         "type": "integer"
        },
        {
         "name": "available_bike_stands",
         "rawType": "int64",
         "type": "integer"
        },
        {
         "name": "available_bikes",
         "rawType": "int64",
         "type": "integer"
        }
       ],
       "ref": "b3260d3a-bad5-4717-9286-1e65527f03b8",
       "rows": [
        [
         "0",
         "146",
         "2025-10-21 13:01:32+02:00",
         "402",
         "00402 - GRYNFOGEL - GAILLARDIE",
         "Face 130, Chemin de Gaillardie",
         "16",
         "16",
         "0"
        ],
        [
         "1",
         "280",
         "2025-10-21 13:01:37+02:00",
         "261",
         "00261 - VAN DYCK - RAPHAËL",
         "DEVANT 6 RUE VAN DICK / FACE RUE RAPHAEL",
         "18",
         "12",
         "0"
        ],
        [
         "2",
         "396",
         "2025-10-21 13:01:38+02:00",
         "203",
         "00203 - ST-EXUPERY - PETIT PRINCE",
         "2 AV ANTOINE DE ST EXUPERY",
         "20",
         "10",
         "10"
        ],
        [
         "3",
         "142",
         "2025-10-21 13:01:41+02:00",
         "252",
         "00252 - CATELLAN - CAZENEUVE",
         "RUE MARIE CLAIRE DE CATELLAN (10M AVANT LE PONT SNCF LE LONG DE LA PISTE CYCLABE)",
         "18",
         "4",
         "12"
        ],
        [
         "4",
         "208",
         "2025-10-21 13:01:50+02:00",
         "312",
         "00312 - BASE DE LOISIRS SESQUIERES",
         "Lac de Sesquières  - Devant l'entrée Wam Park",
         "13",
         "9",
         "4"
        ],
        [
         "5",
         "312",
         "2025-10-21 13:01:58+02:00",
         "286",
         "00286 - FONTAINES - BRUN",
         "40, rue des Fontaines",
         "13",
         "12",
         "0"
        ],
        [
         "6",
         "130",
         "2025-10-21 13:02:05+02:00",
         "281",
         "00281 - JARDIN NIEL",
         "FACE 80 RUE SAINT ROCH / ANGLE AC DU 14EME REGIMENT D'INFANTERIE",
         "18",
         "14",
         "2"
        ],
        [
         "7",
         "50",
         "2025-10-21 13:02:10+02:00",
         "343",
         "00343 CHAUBET - CHIRAC",
         null,
         "13",
         "13",
         "0"
        ],
        [
         "8",
         "339",
         "2025-10-21 13:02:13+02:00",
         "403",
         "00403 - NARBONNE - CLOTASSES",
         "271, route de Narbonne",
         "16",
         "12",
         "4"
        ],
        [
         "9",
         "246",
         "2025-10-21 13:02:24+02:00",
         "162",
         "00162 - PLACE D'ITALIE",
         "FACE 49 AV D' ITALIE",
         "17",
         "12",
         "5"
        ],
        [
         "10",
         "368",
         "2025-10-21 13:02:30+02:00",
         "119",
         "00119 - BRIENNE - CHAPOU",
         "129 ALL DE BRIENNE",
         "24",
         "24",
         "0"
        ],
        [
         "11",
         "381",
         "2025-10-21 13:02:36+02:00",
         "232",
         "00232 - NARBONNE - CAUBERE",
         "73 RTE DE NARBONNE",
         "15",
         "9",
         "2"
        ],
        [
         "12",
         "180",
         "2025-10-21 13:02:36+02:00",
         "332",
         "00332 - PLACE ROSINE BET",
         "4, place Rosine Bet",
         "13",
         "3",
         "9"
        ],
        [
         "13",
         "195",
         "2025-10-21 13:02:38+02:00",
         "284",
         "00284 - ATLANTA - AGDE",
         "67 RTE D'AGDE / RD PT DAVID FREIMAN",
         "15",
         "9",
         "6"
        ],
        [
         "14",
         "323",
         "2025-10-21 13:02:48+02:00",
         "333",
         "00333 - CHEMIN DE TOURNEFEUILLE - LESBRE",
         "Parking carrefour, chemin de Tournefeuille / impasse Michel Lesbre",
         "13",
         "8",
         "5"
        ],
        [
         "15",
         "386",
         "2025-10-21 13:02:53+02:00",
         "393",
         "00393 - HOPITAL PURPAN",
         "Avenue du Professeur Jean Dausset – carrefour Tram / entrée de l’hôpital Paule de Viguier",
         "13",
         "5",
         "8"
        ],
        [
         "16",
         "105",
         "2025-10-21 13:02:54+02:00",
         "109",
         "00109 - HOTEL DE DÉPARTEMENT",
         "1 BD DE LA MARQUETTE",
         "25",
         "13",
         "11"
        ],
        [
         "17",
         "75",
         "2025-10-21 13:02:59+02:00",
         "192",
         "00192 - RE DE ST - SIMON - PRADO",
         "355 ROUTE DE SAINT-SIMON",
         "20",
         "18",
         "1"
        ],
        [
         "18",
         "217",
         "2025-10-21 13:03:06+02:00",
         "253",
         "00253 - ÉTATS-UNIS - CHARLAS",
         "FACE 74 AV DES ETATS-UNIS (GARAGE RENAULT TOULOUSE)",
         "20",
         "16",
         "4"
        ],
        [
         "19",
         "166",
         "2025-10-21 13:03:19+02:00",
         "412",
         "00412 - PARC DE LA POUDRERIE",
         "Face 8 et 9 chemin de la loge Ile du Ramier - Toulouse",
         "16",
         "7",
         "5"
        ],
        [
         "20",
         "116",
         "2025-10-21 13:03:23+02:00",
         "183",
         "00183 - RUE DE CUGNAUX - GRAVETTE",
         "RUE DE CUGNAUX",
         "18",
         "12",
         "6"
        ],
        [
         "21",
         "36",
         "2025-10-21 13:03:23+02:00",
         "371",
         "00371 - REYNERIE - LONDRES",
         "9, rue de Londres",
         "13",
         "3",
         "10"
        ],
        [
         "22",
         "69",
         "2025-10-21 13:03:25+02:00",
         "7",
         "00007 - PLACE VICTOR HUGO",
         "6 RUE DU REMPART VILLENEUVE",
         "25",
         "0",
         "25"
        ],
        [
         "23",
         "19",
         "2025-10-21 13:03:25+02:00",
         "152",
         "00152 - THÉATRE DES MAZADES",
         "10 AV DES MAZADES",
         "20",
         "8",
         "7"
        ],
        [
         "24",
         "164",
         "2025-10-21 13:03:31+02:00",
         "102",
         "00102 -  MISTRAL - FLEURANCE",
         "18 ALLEE FREDERIC MISTRAL",
         "19",
         "17",
         "0"
        ],
        [
         "25",
         "256",
         "2025-10-21 13:03:33+02:00",
         "344",
         "00344 - RIEUX - VAISSE",
         "58, avenue Jean Rieux",
         "13",
         "13",
         "0"
        ],
        [
         "26",
         "229",
         "2025-10-21 13:03:35+02:00",
         "199",
         "00199 - DELTOUR - RIEUX",
         "4 BD DELTOUR",
         "22",
         "21",
         "0"
        ],
        [
         "27",
         "35",
         "2025-10-21 13:03:39+02:00",
         "74",
         "00074 - LAGANNE - TEINTURIERS",
         "37 RUE LAGANNE",
         "18",
         "10",
         "8"
        ],
        [
         "28",
         "108",
         "2025-10-21 13:03:39+02:00",
         "390",
         "00390 - CAPELLES - ECOLE VETERINAIRE",
         null,
         "13",
         "5",
         "8"
        ],
        [
         "29",
         "352",
         "2025-10-21 13:03:47+02:00",
         "133",
         "00133 - MINIMES C.NOUGARO MÉTRO",
         "71 AV DES MINIMES",
         "22",
         "13",
         "9"
        ],
        [
         "30",
         "226",
         "2025-10-21 13:03:57+02:00",
         "214",
         "00214 - CASTRES - ACHIARY",
         "48 AV DE CASTRES",
         "17",
         "17",
         "0"
        ],
        [
         "31",
         "409",
         "2025-10-21 13:04:07+02:00",
         "63",
         "00063 - PISCINE LEO LAGRANGE",
         "54 RUE DES SEPT TROUBADOURS",
         "22",
         "18",
         "4"
        ],
        [
         "32",
         "385",
         "2025-10-21 13:04:09+02:00",
         "165",
         "00165 -  AVIONS - LIBELLULES",
         "33 AVENUE DES AVIONS",
         "15",
         "8",
         "7"
        ],
        [
         "33",
         "0",
         "2025-10-21 13:04:10+02:00",
         "55",
         "00055 - ST-SERNIN - GATIEN - ARNOULT",
         "2 RUE GATIEN ARNOULT",
         "15",
         "14",
         "0"
        ],
        [
         "34",
         "392",
         "2025-10-21 13:04:13+02:00",
         "326",
         "00326 - EBELOT - PUJIBET",
         "Face 55, rue Henri Ebelot (sur le rond-point)",
         "13",
         "4",
         "9"
        ],
        [
         "35",
         "346",
         "2025-10-21 13:04:17+02:00",
         "219",
         "00219 - RTE DE BLAGNAC - PUCCINI",
         "35 RUE GIACOMO PUCCINI",
         "18",
         "11",
         "7"
        ],
        [
         "36",
         "260",
         "2025-10-21 13:04:18+02:00",
         "324",
         "00324 - ROSTAND - DURAND",
         "Face 113, rue Edmond Rostand",
         "13",
         "3",
         "10"
        ],
        [
         "37",
         "188",
         "2025-10-21 13:04:24+02:00",
         "104",
         "00104 - AV. DE MURET TRAMWAY",
         "219 AV DE MURET",
         "18",
         "12",
         "5"
        ],
        [
         "38",
         "143",
         "2025-10-21 13:04:25+02:00",
         "184",
         "00184 - MICHOUN - HYERES",
         "70 CHEMIN MICHOUN",
         "20",
         "15",
         "3"
        ],
        [
         "39",
         "330",
         "2025-10-21 13:04:26+02:00",
         "2011",
         "02011 - PATINOIRE BARRADELS TRAMWAY",
         "Parking de la patinoire municipale Jacques Raynaud - Blagnac",
         "16",
         "13",
         "3"
        ],
        [
         "40",
         "314",
         "2025-10-21 13:04:28+02:00",
         "94",
         "00094 - LYON - SÉMARD",
         "76 BD DE LA GARE",
         "25",
         "22",
         "0"
        ],
        [
         "41",
         "404",
         "2025-10-21 13:04:28+02:00",
         "374",
         "00374 - BELLEFONTAINE MÉTRO",
         "Allée de Bellefontaine",
         "13",
         "0",
         "0"
        ],
        [
         "42",
         "126",
         "2025-10-21 13:04:29+02:00",
         "244",
         "00244 - RENAN - VITRY",
         "93 RUE ERNEST RENAN ANGLE RUE VITRY",
         "18",
         "6",
         "12"
        ],
        [
         "43",
         "355",
         "2025-10-21 13:04:34+02:00",
         "335",
         "00335 - COLONNE - REILLE",
         "Face 5, rue Maréchal Honoré Reille",
         "13",
         "10",
         "3"
        ],
        [
         "44",
         "310",
         "2025-10-21 13:04:36+02:00",
         "355",
         "00355 - VILLET - COSMONAUTES",
         "32 et 34 rue des Cosmonautes",
         "13",
         "2",
         "11"
        ],
        [
         "45",
         "238",
         "2025-10-21 13:04:47+02:00",
         "392",
         "00392 - CASSELARDIT - DUCIS",
         null,
         "13",
         "10",
         "3"
        ],
        [
         "46",
         "389",
         "2025-10-21 13:04:48+02:00",
         "103",
         "00103 - ST - MICHEL - STE - CATHERINE",
         "134 GRANDE RUE SAINT-MICHEL",
         "20",
         "16",
         "1"
        ],
        [
         "47",
         "17",
         "2025-10-21 13:04:48+02:00",
         "315",
         "000315 - FRONTON - LAPIN",
         "269, Avenue de Fronton",
         "13",
         "10",
         "2"
        ],
        [
         "48",
         "276",
         "2025-10-21 13:04:48+02:00",
         "2002",
         "02002 - PLAN DU PORT",
         "Face n° 2 et 4 Place Le Plan du Port - Blagnac",
         "16",
         "13",
         "3"
        ],
        [
         "49",
         "21",
         "2025-10-21 13:04:51+02:00",
         "384",
         "00384 GUILHERMY - LAS BRUGUES",
         null,
         "13",
         "11",
         "2"
        ]
       ],
       "shape": {
        "columns": 8,
        "rows": 7763
       }
      },
      "text/html": [
       "<div>\n",
       "<style scoped>\n",
       "    .dataframe tbody tr th:only-of-type {\n",
       "        vertical-align: middle;\n",
       "    }\n",
       "\n",
       "    .dataframe tbody tr th {\n",
       "        vertical-align: top;\n",
       "    }\n",
       "\n",
       "    .dataframe thead th {\n",
       "        text-align: right;\n",
       "    }\n",
       "</style>\n",
       "<table border=\"1\" class=\"dataframe\">\n",
       "  <thead>\n",
       "    <tr style=\"text-align: right;\">\n",
       "      <th></th>\n",
       "      <th>Unnamed: 0</th>\n",
       "      <th>datetime</th>\n",
       "      <th>number</th>\n",
       "      <th>name</th>\n",
       "      <th>address</th>\n",
       "      <th>bike_stands</th>\n",
       "      <th>available_bike_stands</th>\n",
       "      <th>available_bikes</th>\n",
       "    </tr>\n",
       "  </thead>\n",
       "  <tbody>\n",
       "    <tr>\n",
       "      <th>0</th>\n",
       "      <td>146</td>\n",
       "      <td>2025-10-21 13:01:32+02:00</td>\n",
       "      <td>402</td>\n",
       "      <td>00402 - GRYNFOGEL - GAILLARDIE</td>\n",
       "      <td>Face 130, Chemin de Gaillardie</td>\n",
       "      <td>16</td>\n",
       "      <td>16</td>\n",
       "      <td>0</td>\n",
       "    </tr>\n",
       "    <tr>\n",
       "      <th>1</th>\n",
       "      <td>280</td>\n",
       "      <td>2025-10-21 13:01:37+02:00</td>\n",
       "      <td>261</td>\n",
       "      <td>00261 - VAN DYCK - RAPHAËL</td>\n",
       "      <td>DEVANT 6 RUE VAN DICK / FACE RUE RAPHAEL</td>\n",
       "      <td>18</td>\n",
       "      <td>12</td>\n",
       "      <td>0</td>\n",
       "    </tr>\n",
       "    <tr>\n",
       "      <th>2</th>\n",
       "      <td>396</td>\n",
       "      <td>2025-10-21 13:01:38+02:00</td>\n",
       "      <td>203</td>\n",
       "      <td>00203 - ST-EXUPERY - PETIT PRINCE</td>\n",
       "      <td>2 AV ANTOINE DE ST EXUPERY</td>\n",
       "      <td>20</td>\n",
       "      <td>10</td>\n",
       "      <td>10</td>\n",
       "    </tr>\n",
       "    <tr>\n",
       "      <th>3</th>\n",
       "      <td>142</td>\n",
       "      <td>2025-10-21 13:01:41+02:00</td>\n",
       "      <td>252</td>\n",
       "      <td>00252 - CATELLAN - CAZENEUVE</td>\n",
       "      <td>RUE MARIE CLAIRE DE CATELLAN (10M AVANT LE PON...</td>\n",
       "      <td>18</td>\n",
       "      <td>4</td>\n",
       "      <td>12</td>\n",
       "    </tr>\n",
       "    <tr>\n",
       "      <th>4</th>\n",
       "      <td>208</td>\n",
       "      <td>2025-10-21 13:01:50+02:00</td>\n",
       "      <td>312</td>\n",
       "      <td>00312 - BASE DE LOISIRS SESQUIERES</td>\n",
       "      <td>Lac de Sesquières  - Devant l'entrée Wam Park</td>\n",
       "      <td>13</td>\n",
       "      <td>9</td>\n",
       "      <td>4</td>\n",
       "    </tr>\n",
       "    <tr>\n",
       "      <th>...</th>\n",
       "      <td>...</td>\n",
       "      <td>...</td>\n",
       "      <td>...</td>\n",
       "      <td>...</td>\n",
       "      <td>...</td>\n",
       "      <td>...</td>\n",
       "      <td>...</td>\n",
       "      <td>...</td>\n",
       "    </tr>\n",
       "    <tr>\n",
       "      <th>7758</th>\n",
       "      <td>77</td>\n",
       "      <td>2025-10-21 14:10:35+02:00</td>\n",
       "      <td>175</td>\n",
       "      <td>00175 - BORDEROUGE - MÉTRO</td>\n",
       "      <td>FACE 52 AV BOURGES MAUNOURY</td>\n",
       "      <td>30</td>\n",
       "      <td>18</td>\n",
       "      <td>11</td>\n",
       "    </tr>\n",
       "    <tr>\n",
       "      <th>7759</th>\n",
       "      <td>351</td>\n",
       "      <td>2025-10-21 14:10:35+02:00</td>\n",
       "      <td>317</td>\n",
       "      <td>00317 - GAUSSEN - CROIX-BÉNITE</td>\n",
       "      <td>Face, 22 - 24 boulevard Henri Gaussen</td>\n",
       "      <td>13</td>\n",
       "      <td>10</td>\n",
       "      <td>3</td>\n",
       "    </tr>\n",
       "    <tr>\n",
       "      <th>7760</th>\n",
       "      <td>64</td>\n",
       "      <td>2025-10-21 14:10:35+02:00</td>\n",
       "      <td>3004</td>\n",
       "      <td>03004 - MONTEL - LANGUEDOC</td>\n",
       "      <td>Devant 17, boulevard Eugène Montel - Tournefeu...</td>\n",
       "      <td>16</td>\n",
       "      <td>5</td>\n",
       "      <td>11</td>\n",
       "    </tr>\n",
       "    <tr>\n",
       "      <th>7761</th>\n",
       "      <td>415</td>\n",
       "      <td>2025-10-21 14:10:36+02:00</td>\n",
       "      <td>14</td>\n",
       "      <td>00014 - PERIGORD</td>\n",
       "      <td>26 RUE DE PERIGORD</td>\n",
       "      <td>17</td>\n",
       "      <td>11</td>\n",
       "      <td>5</td>\n",
       "    </tr>\n",
       "    <tr>\n",
       "      <th>7762</th>\n",
       "      <td>55</td>\n",
       "      <td>2025-10-21 14:10:36+02:00</td>\n",
       "      <td>346</td>\n",
       "      <td>00346 - CITE DE L'ESPACE</td>\n",
       "      <td>Parking Cité de l’Espace le long de l’avenue J...</td>\n",
       "      <td>13</td>\n",
       "      <td>2</td>\n",
       "      <td>10</td>\n",
       "    </tr>\n",
       "  </tbody>\n",
       "</table>\n",
       "<p>7763 rows × 8 columns</p>\n",
       "</div>"
      ],
      "text/plain": [
       "      Unnamed: 0                   datetime  number  \\\n",
       "0            146  2025-10-21 13:01:32+02:00     402   \n",
       "1            280  2025-10-21 13:01:37+02:00     261   \n",
       "2            396  2025-10-21 13:01:38+02:00     203   \n",
       "3            142  2025-10-21 13:01:41+02:00     252   \n",
       "4            208  2025-10-21 13:01:50+02:00     312   \n",
       "...          ...                        ...     ...   \n",
       "7758          77  2025-10-21 14:10:35+02:00     175   \n",
       "7759         351  2025-10-21 14:10:35+02:00     317   \n",
       "7760          64  2025-10-21 14:10:35+02:00    3004   \n",
       "7761         415  2025-10-21 14:10:36+02:00      14   \n",
       "7762          55  2025-10-21 14:10:36+02:00     346   \n",
       "\n",
       "                                    name  \\\n",
       "0         00402 - GRYNFOGEL - GAILLARDIE   \n",
       "1             00261 - VAN DYCK - RAPHAËL   \n",
       "2      00203 - ST-EXUPERY - PETIT PRINCE   \n",
       "3           00252 - CATELLAN - CAZENEUVE   \n",
       "4     00312 - BASE DE LOISIRS SESQUIERES   \n",
       "...                                  ...   \n",
       "7758          00175 - BORDEROUGE - MÉTRO   \n",
       "7759      00317 - GAUSSEN - CROIX-BÉNITE   \n",
       "7760          03004 - MONTEL - LANGUEDOC   \n",
       "7761                    00014 - PERIGORD   \n",
       "7762            00346 - CITE DE L'ESPACE   \n",
       "\n",
       "                                                address  bike_stands  \\\n",
       "0                        Face 130, Chemin de Gaillardie           16   \n",
       "1              DEVANT 6 RUE VAN DICK / FACE RUE RAPHAEL           18   \n",
       "2                            2 AV ANTOINE DE ST EXUPERY           20   \n",
       "3     RUE MARIE CLAIRE DE CATELLAN (10M AVANT LE PON...           18   \n",
       "4         Lac de Sesquières  - Devant l'entrée Wam Park           13   \n",
       "...                                                 ...          ...   \n",
       "7758                        FACE 52 AV BOURGES MAUNOURY           30   \n",
       "7759              Face, 22 - 24 boulevard Henri Gaussen           13   \n",
       "7760  Devant 17, boulevard Eugène Montel - Tournefeu...           16   \n",
       "7761                                 26 RUE DE PERIGORD           17   \n",
       "7762  Parking Cité de l’Espace le long de l’avenue J...           13   \n",
       "\n",
       "      available_bike_stands  available_bikes  \n",
       "0                        16                0  \n",
       "1                        12                0  \n",
       "2                        10               10  \n",
       "3                         4               12  \n",
       "4                         9                4  \n",
       "...                     ...              ...  \n",
       "7758                     18               11  \n",
       "7759                     10                3  \n",
       "7760                      5               11  \n",
       "7761                     11                5  \n",
       "7762                      2               10  \n",
       "\n",
       "[7763 rows x 8 columns]"
      ]
     },
     "execution_count": 14,
     "metadata": {},
     "output_type": "execute_result"
    }
   ],
   "source": [
    "df = pd.read_csv('Extract_data_test.csv')\n",
    "df"
   ]
  },
  {
   "cell_type": "markdown",
   "id": "ea15eded",
   "metadata": {},
   "source": [
    "On sélectionne deux stations à étudier: celle de l'ISAE-SUPAERO et celle de la Place Saint Pierre."
   ]
  },
  {
   "cell_type": "code",
   "execution_count": 16,
   "id": "c9d87f82",
   "metadata": {},
   "outputs": [],
   "source": [
    "# --- Liste des stations ---\n",
    "stations = {\n",
    "    224: \"BELIN - SUPAERO\",\n",
    "    28: \"SAINT-PIERRE\",\n",
    "}"
   ]
  },
  {
   "cell_type": "markdown",
   "id": "30aca860",
   "metadata": {},
   "source": [
    "On trace les séries temporelles représentant l'évolution de la disponibilité des vélos et emplacements disponibles dans ces stations. Les données ont été collectées le 21 Octobre 2025, de 13h10 à 14h10. "
   ]
  },
  {
   "cell_type": "code",
   "execution_count": null,
   "id": "ad9726d0",
   "metadata": {},
   "outputs": [
    {
     "data": {
      "application/vnd.plotly.v1+json": {
       "config": {
        "plotlyServerURL": "https://plot.ly"
       },
       "data": [
        {
         "line": {
          "color": "#636EFA",
          "width": 3
         },
         "marker": {
          "size": 5,
          "symbol": "circle"
         },
         "mode": "lines+markers",
         "name": "Bornes libres",
         "type": "scatter",
         "x": [
          "2025-10-21T13:09:11.000000000",
          "2025-10-21T13:13:07.000000000",
          "2025-10-21T13:23:14.000000000",
          "2025-10-21T13:30:31.000000000",
          "2025-10-21T13:33:17.000000000",
          "2025-10-21T13:39:09.000000000",
          "2025-10-21T13:41:06.000000000",
          "2025-10-21T13:42:21.000000000",
          "2025-10-21T13:43:22.000000000",
          "2025-10-21T13:47:28.000000000",
          "2025-10-21T13:52:08.000000000",
          "2025-10-21T13:53:26.000000000",
          "2025-10-21T14:00:30.000000000",
          "2025-10-21T14:03:30.000000000",
          "2025-10-21T14:06:49.000000000",
          "2025-10-21T14:08:28.000000000",
          "2025-10-21T14:09:05.000000000"
         ],
         "xaxis": "x",
         "y": {
          "bdata": "BgYHBgYGBQYGBQUFBQUGBwc=",
          "dtype": "i1"
         },
         "yaxis": "y"
        },
        {
         "line": {
          "color": "#EF553B",
          "dash": "dot",
          "width": 3
         },
         "marker": {
          "size": 5,
          "symbol": "square"
         },
         "mode": "lines+markers",
         "name": "Vélos disponibles",
         "type": "scatter",
         "x": [
          "2025-10-21T13:09:11.000000000",
          "2025-10-21T13:13:07.000000000",
          "2025-10-21T13:23:14.000000000",
          "2025-10-21T13:30:31.000000000",
          "2025-10-21T13:33:17.000000000",
          "2025-10-21T13:39:09.000000000",
          "2025-10-21T13:41:06.000000000",
          "2025-10-21T13:42:21.000000000",
          "2025-10-21T13:43:22.000000000",
          "2025-10-21T13:47:28.000000000",
          "2025-10-21T13:52:08.000000000",
          "2025-10-21T13:53:26.000000000",
          "2025-10-21T14:00:30.000000000",
          "2025-10-21T14:03:30.000000000",
          "2025-10-21T14:06:49.000000000",
          "2025-10-21T14:08:28.000000000",
          "2025-10-21T14:09:05.000000000"
         ],
         "xaxis": "x",
         "y": {
          "bdata": "Dg4NDg4ODw4ODw8PDw8ODQ0=",
          "dtype": "i1"
         },
         "yaxis": "y"
        },
        {
         "line": {
          "color": "#636EFA",
          "width": 3
         },
         "marker": {
          "size": 5,
          "symbol": "circle"
         },
         "mode": "lines+markers",
         "type": "scatter",
         "x": [
          "2025-10-21T13:10:23.000000000",
          "2025-10-21T13:12:25.000000000",
          "2025-10-21T13:13:14.000000000",
          "2025-10-21T13:15:10.000000000",
          "2025-10-21T13:16:05.000000000",
          "2025-10-21T13:17:32.000000000",
          "2025-10-21T13:18:29.000000000",
          "2025-10-21T13:19:30.000000000",
          "2025-10-21T13:19:46.000000000",
          "2025-10-21T13:23:03.000000000",
          "2025-10-21T13:24:26.000000000",
          "2025-10-21T13:25:15.000000000",
          "2025-10-21T13:28:29.000000000",
          "2025-10-21T13:29:20.000000000",
          "2025-10-21T13:31:01.000000000",
          "2025-10-21T13:32:32.000000000",
          "2025-10-21T13:32:39.000000000",
          "2025-10-21T13:33:39.000000000",
          "2025-10-21T13:35:13.000000000",
          "2025-10-21T13:38:21.000000000",
          "2025-10-21T13:39:31.000000000",
          "2025-10-21T13:42:07.000000000",
          "2025-10-21T13:43:26.000000000",
          "2025-10-21T13:43:49.000000000",
          "2025-10-21T13:46:26.000000000",
          "2025-10-21T13:47:30.000000000",
          "2025-10-21T13:48:04.000000000",
          "2025-10-21T13:49:28.000000000",
          "2025-10-21T13:51:29.000000000",
          "2025-10-21T13:51:42.000000000",
          "2025-10-21T13:54:26.000000000",
          "2025-10-21T13:54:46.000000000",
          "2025-10-21T13:56:27.000000000",
          "2025-10-21T13:57:23.000000000",
          "2025-10-21T14:01:16.000000000",
          "2025-10-21T14:02:22.000000000",
          "2025-10-21T14:05:15.000000000",
          "2025-10-21T14:06:12.000000000",
          "2025-10-21T14:07:27.000000000",
          "2025-10-21T14:10:27.000000000"
         ],
         "xaxis": "x2",
         "y": {
          "bdata": "CgkKCwwLDAwNDg4NDg4PERISEhEREA8ODg4QDxARDQ0MCwkJCQoJCA==",
          "dtype": "i1"
         },
         "yaxis": "y2"
        },
        {
         "line": {
          "color": "#EF553B",
          "dash": "dot",
          "width": 3
         },
         "marker": {
          "size": 5,
          "symbol": "square"
         },
         "mode": "lines+markers",
         "type": "scatter",
         "x": [
          "2025-10-21T13:10:23.000000000",
          "2025-10-21T13:12:25.000000000",
          "2025-10-21T13:13:14.000000000",
          "2025-10-21T13:15:10.000000000",
          "2025-10-21T13:16:05.000000000",
          "2025-10-21T13:17:32.000000000",
          "2025-10-21T13:18:29.000000000",
          "2025-10-21T13:19:30.000000000",
          "2025-10-21T13:19:46.000000000",
          "2025-10-21T13:23:03.000000000",
          "2025-10-21T13:24:26.000000000",
          "2025-10-21T13:25:15.000000000",
          "2025-10-21T13:28:29.000000000",
          "2025-10-21T13:29:20.000000000",
          "2025-10-21T13:31:01.000000000",
          "2025-10-21T13:32:32.000000000",
          "2025-10-21T13:32:39.000000000",
          "2025-10-21T13:33:39.000000000",
          "2025-10-21T13:35:13.000000000",
          "2025-10-21T13:38:21.000000000",
          "2025-10-21T13:39:31.000000000",
          "2025-10-21T13:42:07.000000000",
          "2025-10-21T13:43:26.000000000",
          "2025-10-21T13:43:49.000000000",
          "2025-10-21T13:46:26.000000000",
          "2025-10-21T13:47:30.000000000",
          "2025-10-21T13:48:04.000000000",
          "2025-10-21T13:49:28.000000000",
          "2025-10-21T13:51:29.000000000",
          "2025-10-21T13:51:42.000000000",
          "2025-10-21T13:54:26.000000000",
          "2025-10-21T13:54:46.000000000",
          "2025-10-21T13:56:27.000000000",
          "2025-10-21T13:57:23.000000000",
          "2025-10-21T14:01:16.000000000",
          "2025-10-21T14:02:22.000000000",
          "2025-10-21T14:05:15.000000000",
          "2025-10-21T14:06:12.000000000",
          "2025-10-21T14:07:27.000000000",
          "2025-10-21T14:10:27.000000000"
         ],
         "xaxis": "x2",
         "y": {
          "bdata": "DA0MCwoLCgoJCAgJCAgHBQQEBAUFBgcICAgGBwYFCQkKCw4ODg0NDg==",
          "dtype": "i1"
         },
         "yaxis": "y2"
        },
        {
         "marker": {
          "opacity": 0
         },
         "mode": "markers",
         "showlegend": false,
         "type": "scatter",
         "x": [
          "2025-10-21T14:10:36+02:00"
         ],
         "xaxis": "x",
         "y": [
          0
         ],
         "yaxis": "y"
        },
        {
         "marker": {
          "opacity": 0
         },
         "mode": "markers",
         "showlegend": false,
         "type": "scatter",
         "x": [
          "2025-10-21T14:10:36+02:00"
         ],
         "xaxis": "x2",
         "y": [
          0
         ],
         "yaxis": "y2"
        }
       ],
       "layout": {
        "annotations": [
         {
          "font": {
           "size": 16
          },
          "showarrow": false,
          "text": "BELIN - SUPAERO (Station 224)",
          "x": 0.5,
          "xanchor": "center",
          "xref": "paper",
          "y": 1,
          "yanchor": "bottom",
          "yref": "paper"
         },
         {
          "font": {
           "size": 16
          },
          "showarrow": false,
          "text": "SAINT-PIERRE (Station 28)",
          "x": 0.5,
          "xanchor": "center",
          "xref": "paper",
          "y": 0.45,
          "yanchor": "bottom",
          "yref": "paper"
         }
        ],
        "font": {
         "family": "Arial",
         "size": 13
        },
        "height": 1000,
        "hovermode": "x unified",
        "legend": {
         "font": {
          "size": 12
         },
         "orientation": "h",
         "title": {
          "text": "Légende"
         },
         "x": 0.5,
         "xanchor": "center",
         "y": 1.02,
         "yanchor": "bottom"
        },
        "plot_bgcolor": "white",
        "template": {
         "data": {
          "bar": [
           {
            "error_x": {
             "color": "#2a3f5f"
            },
            "error_y": {
             "color": "#2a3f5f"
            },
            "marker": {
             "line": {
              "color": "#E5ECF6",
              "width": 0.5
             },
             "pattern": {
              "fillmode": "overlay",
              "size": 10,
              "solidity": 0.2
             }
            },
            "type": "bar"
           }
          ],
          "barpolar": [
           {
            "marker": {
             "line": {
              "color": "#E5ECF6",
              "width": 0.5
             },
             "pattern": {
              "fillmode": "overlay",
              "size": 10,
              "solidity": 0.2
             }
            },
            "type": "barpolar"
           }
          ],
          "carpet": [
           {
            "aaxis": {
             "endlinecolor": "#2a3f5f",
             "gridcolor": "white",
             "linecolor": "white",
             "minorgridcolor": "white",
             "startlinecolor": "#2a3f5f"
            },
            "baxis": {
             "endlinecolor": "#2a3f5f",
             "gridcolor": "white",
             "linecolor": "white",
             "minorgridcolor": "white",
             "startlinecolor": "#2a3f5f"
            },
            "type": "carpet"
           }
          ],
          "choropleth": [
           {
            "colorbar": {
             "outlinewidth": 0,
             "ticks": ""
            },
            "type": "choropleth"
           }
          ],
          "contour": [
           {
            "colorbar": {
             "outlinewidth": 0,
             "ticks": ""
            },
            "colorscale": [
             [
              0,
              "#0d0887"
             ],
             [
              0.1111111111111111,
              "#46039f"
             ],
             [
              0.2222222222222222,
              "#7201a8"
             ],
             [
              0.3333333333333333,
              "#9c179e"
             ],
             [
              0.4444444444444444,
              "#bd3786"
             ],
             [
              0.5555555555555556,
              "#d8576b"
             ],
             [
              0.6666666666666666,
              "#ed7953"
             ],
             [
              0.7777777777777778,
              "#fb9f3a"
             ],
             [
              0.8888888888888888,
              "#fdca26"
             ],
             [
              1,
              "#f0f921"
             ]
            ],
            "type": "contour"
           }
          ],
          "contourcarpet": [
           {
            "colorbar": {
             "outlinewidth": 0,
             "ticks": ""
            },
            "type": "contourcarpet"
           }
          ],
          "heatmap": [
           {
            "colorbar": {
             "outlinewidth": 0,
             "ticks": ""
            },
            "colorscale": [
             [
              0,
              "#0d0887"
             ],
             [
              0.1111111111111111,
              "#46039f"
             ],
             [
              0.2222222222222222,
              "#7201a8"
             ],
             [
              0.3333333333333333,
              "#9c179e"
             ],
             [
              0.4444444444444444,
              "#bd3786"
             ],
             [
              0.5555555555555556,
              "#d8576b"
             ],
             [
              0.6666666666666666,
              "#ed7953"
             ],
             [
              0.7777777777777778,
              "#fb9f3a"
             ],
             [
              0.8888888888888888,
              "#fdca26"
             ],
             [
              1,
              "#f0f921"
             ]
            ],
            "type": "heatmap"
           }
          ],
          "histogram": [
           {
            "marker": {
             "pattern": {
              "fillmode": "overlay",
              "size": 10,
              "solidity": 0.2
             }
            },
            "type": "histogram"
           }
          ],
          "histogram2d": [
           {
            "colorbar": {
             "outlinewidth": 0,
             "ticks": ""
            },
            "colorscale": [
             [
              0,
              "#0d0887"
             ],
             [
              0.1111111111111111,
              "#46039f"
             ],
             [
              0.2222222222222222,
              "#7201a8"
             ],
             [
              0.3333333333333333,
              "#9c179e"
             ],
             [
              0.4444444444444444,
              "#bd3786"
             ],
             [
              0.5555555555555556,
              "#d8576b"
             ],
             [
              0.6666666666666666,
              "#ed7953"
             ],
             [
              0.7777777777777778,
              "#fb9f3a"
             ],
             [
              0.8888888888888888,
              "#fdca26"
             ],
             [
              1,
              "#f0f921"
             ]
            ],
            "type": "histogram2d"
           }
          ],
          "histogram2dcontour": [
           {
            "colorbar": {
             "outlinewidth": 0,
             "ticks": ""
            },
            "colorscale": [
             [
              0,
              "#0d0887"
             ],
             [
              0.1111111111111111,
              "#46039f"
             ],
             [
              0.2222222222222222,
              "#7201a8"
             ],
             [
              0.3333333333333333,
              "#9c179e"
             ],
             [
              0.4444444444444444,
              "#bd3786"
             ],
             [
              0.5555555555555556,
              "#d8576b"
             ],
             [
              0.6666666666666666,
              "#ed7953"
             ],
             [
              0.7777777777777778,
              "#fb9f3a"
             ],
             [
              0.8888888888888888,
              "#fdca26"
             ],
             [
              1,
              "#f0f921"
             ]
            ],
            "type": "histogram2dcontour"
           }
          ],
          "mesh3d": [
           {
            "colorbar": {
             "outlinewidth": 0,
             "ticks": ""
            },
            "type": "mesh3d"
           }
          ],
          "parcoords": [
           {
            "line": {
             "colorbar": {
              "outlinewidth": 0,
              "ticks": ""
             }
            },
            "type": "parcoords"
           }
          ],
          "pie": [
           {
            "automargin": true,
            "type": "pie"
           }
          ],
          "scatter": [
           {
            "fillpattern": {
             "fillmode": "overlay",
             "size": 10,
             "solidity": 0.2
            },
            "type": "scatter"
           }
          ],
          "scatter3d": [
           {
            "line": {
             "colorbar": {
              "outlinewidth": 0,
              "ticks": ""
             }
            },
            "marker": {
             "colorbar": {
              "outlinewidth": 0,
              "ticks": ""
             }
            },
            "type": "scatter3d"
           }
          ],
          "scattercarpet": [
           {
            "marker": {
             "colorbar": {
              "outlinewidth": 0,
              "ticks": ""
             }
            },
            "type": "scattercarpet"
           }
          ],
          "scattergeo": [
           {
            "marker": {
             "colorbar": {
              "outlinewidth": 0,
              "ticks": ""
             }
            },
            "type": "scattergeo"
           }
          ],
          "scattergl": [
           {
            "marker": {
             "colorbar": {
              "outlinewidth": 0,
              "ticks": ""
             }
            },
            "type": "scattergl"
           }
          ],
          "scattermap": [
           {
            "marker": {
             "colorbar": {
              "outlinewidth": 0,
              "ticks": ""
             }
            },
            "type": "scattermap"
           }
          ],
          "scattermapbox": [
           {
            "marker": {
             "colorbar": {
              "outlinewidth": 0,
              "ticks": ""
             }
            },
            "type": "scattermapbox"
           }
          ],
          "scatterpolar": [
           {
            "marker": {
             "colorbar": {
              "outlinewidth": 0,
              "ticks": ""
             }
            },
            "type": "scatterpolar"
           }
          ],
          "scatterpolargl": [
           {
            "marker": {
             "colorbar": {
              "outlinewidth": 0,
              "ticks": ""
             }
            },
            "type": "scatterpolargl"
           }
          ],
          "scatterternary": [
           {
            "marker": {
             "colorbar": {
              "outlinewidth": 0,
              "ticks": ""
             }
            },
            "type": "scatterternary"
           }
          ],
          "surface": [
           {
            "colorbar": {
             "outlinewidth": 0,
             "ticks": ""
            },
            "colorscale": [
             [
              0,
              "#0d0887"
             ],
             [
              0.1111111111111111,
              "#46039f"
             ],
             [
              0.2222222222222222,
              "#7201a8"
             ],
             [
              0.3333333333333333,
              "#9c179e"
             ],
             [
              0.4444444444444444,
              "#bd3786"
             ],
             [
              0.5555555555555556,
              "#d8576b"
             ],
             [
              0.6666666666666666,
              "#ed7953"
             ],
             [
              0.7777777777777778,
              "#fb9f3a"
             ],
             [
              0.8888888888888888,
              "#fdca26"
             ],
             [
              1,
              "#f0f921"
             ]
            ],
            "type": "surface"
           }
          ],
          "table": [
           {
            "cells": {
             "fill": {
              "color": "#EBF0F8"
             },
             "line": {
              "color": "white"
             }
            },
            "header": {
             "fill": {
              "color": "#C8D4E3"
             },
             "line": {
              "color": "white"
             }
            },
            "type": "table"
           }
          ]
         },
         "layout": {
          "annotationdefaults": {
           "arrowcolor": "#2a3f5f",
           "arrowhead": 0,
           "arrowwidth": 1
          },
          "autotypenumbers": "strict",
          "coloraxis": {
           "colorbar": {
            "outlinewidth": 0,
            "ticks": ""
           }
          },
          "colorscale": {
           "diverging": [
            [
             0,
             "#8e0152"
            ],
            [
             0.1,
             "#c51b7d"
            ],
            [
             0.2,
             "#de77ae"
            ],
            [
             0.3,
             "#f1b6da"
            ],
            [
             0.4,
             "#fde0ef"
            ],
            [
             0.5,
             "#f7f7f7"
            ],
            [
             0.6,
             "#e6f5d0"
            ],
            [
             0.7,
             "#b8e186"
            ],
            [
             0.8,
             "#7fbc41"
            ],
            [
             0.9,
             "#4d9221"
            ],
            [
             1,
             "#276419"
            ]
           ],
           "sequential": [
            [
             0,
             "#0d0887"
            ],
            [
             0.1111111111111111,
             "#46039f"
            ],
            [
             0.2222222222222222,
             "#7201a8"
            ],
            [
             0.3333333333333333,
             "#9c179e"
            ],
            [
             0.4444444444444444,
             "#bd3786"
            ],
            [
             0.5555555555555556,
             "#d8576b"
            ],
            [
             0.6666666666666666,
             "#ed7953"
            ],
            [
             0.7777777777777778,
             "#fb9f3a"
            ],
            [
             0.8888888888888888,
             "#fdca26"
            ],
            [
             1,
             "#f0f921"
            ]
           ],
           "sequentialminus": [
            [
             0,
             "#0d0887"
            ],
            [
             0.1111111111111111,
             "#46039f"
            ],
            [
             0.2222222222222222,
             "#7201a8"
            ],
            [
             0.3333333333333333,
             "#9c179e"
            ],
            [
             0.4444444444444444,
             "#bd3786"
            ],
            [
             0.5555555555555556,
             "#d8576b"
            ],
            [
             0.6666666666666666,
             "#ed7953"
            ],
            [
             0.7777777777777778,
             "#fb9f3a"
            ],
            [
             0.8888888888888888,
             "#fdca26"
            ],
            [
             1,
             "#f0f921"
            ]
           ]
          },
          "colorway": [
           "#636efa",
           "#EF553B",
           "#00cc96",
           "#ab63fa",
           "#FFA15A",
           "#19d3f3",
           "#FF6692",
           "#B6E880",
           "#FF97FF",
           "#FECB52"
          ],
          "font": {
           "color": "#2a3f5f"
          },
          "geo": {
           "bgcolor": "white",
           "lakecolor": "white",
           "landcolor": "#E5ECF6",
           "showlakes": true,
           "showland": true,
           "subunitcolor": "white"
          },
          "hoverlabel": {
           "align": "left"
          },
          "hovermode": "closest",
          "mapbox": {
           "style": "light"
          },
          "paper_bgcolor": "white",
          "plot_bgcolor": "#E5ECF6",
          "polar": {
           "angularaxis": {
            "gridcolor": "white",
            "linecolor": "white",
            "ticks": ""
           },
           "bgcolor": "#E5ECF6",
           "radialaxis": {
            "gridcolor": "white",
            "linecolor": "white",
            "ticks": ""
           }
          },
          "scene": {
           "xaxis": {
            "backgroundcolor": "#E5ECF6",
            "gridcolor": "white",
            "gridwidth": 2,
            "linecolor": "white",
            "showbackground": true,
            "ticks": "",
            "zerolinecolor": "white"
           },
           "yaxis": {
            "backgroundcolor": "#E5ECF6",
            "gridcolor": "white",
            "gridwidth": 2,
            "linecolor": "white",
            "showbackground": true,
            "ticks": "",
            "zerolinecolor": "white"
           },
           "zaxis": {
            "backgroundcolor": "#E5ECF6",
            "gridcolor": "white",
            "gridwidth": 2,
            "linecolor": "white",
            "showbackground": true,
            "ticks": "",
            "zerolinecolor": "white"
           }
          },
          "shapedefaults": {
           "line": {
            "color": "#2a3f5f"
           }
          },
          "ternary": {
           "aaxis": {
            "gridcolor": "white",
            "linecolor": "white",
            "ticks": ""
           },
           "baxis": {
            "gridcolor": "white",
            "linecolor": "white",
            "ticks": ""
           },
           "bgcolor": "#E5ECF6",
           "caxis": {
            "gridcolor": "white",
            "linecolor": "white",
            "ticks": ""
           }
          },
          "title": {
           "x": 0.05
          },
          "xaxis": {
           "automargin": true,
           "gridcolor": "white",
           "linecolor": "white",
           "ticks": "",
           "title": {
            "standoff": 15
           },
           "zerolinecolor": "white",
           "zerolinewidth": 2
          },
          "yaxis": {
           "automargin": true,
           "gridcolor": "white",
           "linecolor": "white",
           "ticks": "",
           "title": {
            "standoff": 15
           },
           "zerolinecolor": "white",
           "zerolinewidth": 2
          }
         }
        },
        "title": {
         "font": {
          "size": 22
         },
         "text": "Évolution du nombre de vélos et bornes libres — Toulouse",
         "x": 0.5,
         "xanchor": "center"
        },
        "xaxis": {
         "anchor": "y",
         "domain": [
          0,
          1
         ],
         "gridcolor": "rgba(220,220,220,0.3)",
         "matches": "x2",
         "range": [
          "2025-10-21T13:01:32+02:00",
          "2025-10-21T14:10:36+02:00"
         ],
         "showgrid": true,
         "showticklabels": false,
         "tickformat": "%d/%m %H:%M",
         "title": {
          "text": "Date et heure"
         }
        },
        "xaxis2": {
         "anchor": "y2",
         "domain": [
          0,
          1
         ],
         "gridcolor": "rgba(220,220,220,0.3)",
         "range": [
          "2025-10-21T13:01:32+02:00",
          "2025-10-21T14:10:36+02:00"
         ],
         "showgrid": true,
         "tickformat": "%d/%m %H:%M",
         "title": {
          "text": "Date et heure"
         }
        },
        "yaxis": {
         "anchor": "x",
         "domain": [
          0.55,
          1
         ],
         "gridcolor": "rgba(220,220,220,0.3)",
         "showgrid": true,
         "title": {
          "text": "Nombre"
         }
        },
        "yaxis2": {
         "anchor": "x2",
         "domain": [
          0,
          0.45
         ],
         "gridcolor": "rgba(220,220,220,0.3)",
         "showgrid": true,
         "title": {
          "text": "Nombre"
         }
        }
       }
      }
     },
     "metadata": {},
     "output_type": "display_data"
    }
   ],
   "source": [
    "# --- Création du subplot (2 lignes, 1 colonne) ---\n",
    "fig = make_subplots(\n",
    "    rows=2, cols=1,\n",
    "    shared_xaxes=True,\n",
    "    subplot_titles=[f\"{name} (Station {num})\" for num, name in stations.items()],\n",
    "    vertical_spacing=0.1\n",
    ")\n",
    "\n",
    "# --- Couleurs cohérentes ---\n",
    "color_bornes = px.colors.qualitative.Plotly[0]  # bleu\n",
    "color_velos = px.colors.qualitative.Plotly[1]   # orange\n",
    "\n",
    "# --- Calcul de l'extension de l'axe X ---\n",
    "df[\"datetime\"] = pd.to_datetime(df[\"datetime\"])\n",
    "x_min = df['datetime'].min()\n",
    "x_max = df['datetime'].max()\n",
    "x_extended = x_max\n",
    "# x_extended = x_min + 2 * (x_max - x_min)  # moitié droite vide\n",
    "\n",
    "for i, (num, name) in enumerate(stations.items(), start=1):\n",
    "    df_station = df[df[\"number\"] == num]\n",
    "\n",
    "    # Bornes libres\n",
    "    fig.add_trace(\n",
    "        go.Scatter(\n",
    "            x=df_station[\"datetime\"],\n",
    "            y=df_station[\"available_bike_stands\"],\n",
    "            mode=\"lines+markers\",\n",
    "            name=\"Bornes libres\" if i == 1 else None,  # une seule légende\n",
    "            line=dict(color=color_bornes, width=3),\n",
    "            marker=dict(size=5, symbol=\"circle\"),\n",
    "        ),\n",
    "        row=i, col=1\n",
    "    )\n",
    "\n",
    "    # Vélos disponibles\n",
    "    fig.add_trace(\n",
    "        go.Scatter(\n",
    "            x=df_station[\"datetime\"],\n",
    "            y=df_station[\"available_bikes\"],\n",
    "            mode=\"lines+markers\",\n",
    "            name=\"Vélos disponibles\" if i == 1 else None,  # une seule légende\n",
    "            line=dict(color=color_velos, width=3, dash=\"dot\"),\n",
    "            marker=dict(size=5, symbol=\"square\"),\n",
    "        ),\n",
    "        row=i, col=1\n",
    "    )\n",
    "\n",
    "for i in range(1, 3):\n",
    "    fig.add_trace(\n",
    "        go.Scatter(\n",
    "            x=[x_extended],\n",
    "            y=[0],\n",
    "            mode=\"markers\",\n",
    "            marker=dict(opacity=0),\n",
    "            showlegend=False\n",
    "        ),\n",
    "        row=i, col=1\n",
    "    )\n",
    "\n",
    "fig.update_layout(\n",
    "    height=1000,\n",
    "    title=dict(\n",
    "        text=\"Évolution du nombre de vélos et bornes libres — Toulouse\",\n",
    "        x=0.5,\n",
    "        xanchor=\"center\",\n",
    "        font=dict(size=22)\n",
    "    ),\n",
    "    xaxis=dict(\n",
    "        title=\"Date et heure\",\n",
    "        range=[x_min, x_extended],\n",
    "        showgrid=True,\n",
    "        gridcolor=\"rgba(220,220,220,0.3)\",\n",
    "        tickformat=\"%d/%m %H:%M\"\n",
    "    ),\n",
    "    xaxis2=dict(\n",
    "        title=\"Date et heure\",\n",
    "        range=[x_min, x_extended],\n",
    "        showgrid=True,\n",
    "        gridcolor=\"rgba(220,220,220,0.3)\",\n",
    "        tickformat=\"%d/%m %H:%M\"\n",
    "    ),\n",
    "    yaxis=dict(title=\"Nombre\", showgrid=True, gridcolor=\"rgba(220,220,220,0.3)\"),\n",
    "    yaxis2=dict(title=\"Nombre\", showgrid=True, gridcolor=\"rgba(220,220,220,0.3)\"),\n",
    "    plot_bgcolor=\"white\",\n",
    "    hovermode=\"x unified\",\n",
    "    legend=dict(\n",
    "        title=\"Légende\",\n",
    "        orientation=\"h\",\n",
    "        yanchor=\"bottom\",\n",
    "        y=1.02,\n",
    "        xanchor=\"center\",\n",
    "        x=0.5,\n",
    "        font=dict(size=12)\n",
    "    ),\n",
    "    font=dict(family=\"Arial\", size=13)\n",
    ")\n",
    "\n",
    "fig.update_annotations(font_size=16)\n",
    "fig.show()"
   ]
  },
  {
   "cell_type": "markdown",
   "id": "8a702b1b",
   "metadata": {},
   "source": [
    "Le but est maintenant d'avoir un modèle de forecasting qui \"prolonge\" ces courbes"
   ]
  }
 ],
 "metadata": {
  "kernelspec": {
   "display_name": "myenv",
   "language": "python",
   "name": "python3"
  },
  "language_info": {
   "codemirror_mode": {
    "name": "ipython",
    "version": 3
   },
   "file_extension": ".py",
   "mimetype": "text/x-python",
   "name": "python",
   "nbconvert_exporter": "python",
   "pygments_lexer": "ipython3",
   "version": "3.12.11"
  }
 },
 "nbformat": 4,
 "nbformat_minor": 5
}
